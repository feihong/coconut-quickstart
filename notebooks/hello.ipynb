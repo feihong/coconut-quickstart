{
 "cells": [
  {
   "cell_type": "code",
   "execution_count": 76,
   "metadata": {},
   "outputs": [
    {
     "name": "stdout",
     "output_type": "stream",
     "text": [
      "你好世界 HELLO WORLD！！！\n"
     ]
    }
   ],
   "source": [
    "'你好世界 hello world' |> (s -> s.upper()) |> (-> _ + '！'*3) |> print"
   ]
  },
  {
   "cell_type": "code",
   "execution_count": 9,
   "metadata": {},
   "outputs": [],
   "source": [
    "import random\n",
    "\n",
    "def randomHanzi():\n",
    "    return random.randint(0x4e00, 0x9fff) |> chr"
   ]
  },
  {
   "cell_type": "code",
   "execution_count": 10,
   "metadata": {},
   "outputs": [
    {
     "name": "stdout",
     "output_type": "stream",
     "text": [
      "湴 皣 鬉 毪 苤 窍 漽 褆 弎 聎 趛 暶 倇 冓 们 棵 對 讀 腿 觽 絙 籄 怛 翵 嘄 谔 聞 拱 求 塁 馞 鿸 "
     ]
    }
   ],
   "source": [
    "for _ in range(32):\n",
    "    print(randomHanzi(), end=' ')"
   ]
  },
  {
   "cell_type": "code",
   "execution_count": 11,
   "metadata": {},
   "outputs": [
    {
     "data": {
      "text/html": [
       "<h1>你好世界！</h1>"
      ],
      "text/plain": [
       "<IPython.core.display.HTML object>"
      ]
     },
     "metadata": {},
     "output_type": "display_data"
    }
   ],
   "source": [
    "%%html\n",
    "<h1>你好世界！</h1>"
   ]
  },
  {
   "cell_type": "code",
   "execution_count": 12,
   "metadata": {},
   "outputs": [
    {
     "data": {
      "text/html": [
       "<h1>你好世界！</h1>"
      ],
      "text/plain": [
       "<IPython.core.display.HTML object>"
      ]
     },
     "metadata": {},
     "output_type": "display_data"
    }
   ],
   "source": [
    "def display(s): \n",
    "    import IPython.core.display as d\n",
    "    d.display(d.HTML(s))\n",
    "\n",
    "display('<h1>你好世界！</h1>')"
   ]
  },
  {
   "cell_type": "code",
   "execution_count": 74,
   "metadata": {},
   "outputs": [
    {
     "data": {
      "text/html": [
       "<ol><li>Hello 1</li><li>Hello 2</li><li>Hello 3</li><li>Hello 4</li><li>Hello 5</li><li>Hello 6</li><li>Hello 7</li><li>Hello 8</li></ol>"
      ],
      "text/plain": [
       "<IPython.core.display.HTML object>"
      ]
     },
     "metadata": {},
     "output_type": "display_data"
    }
   ],
   "source": [
    "from yattag import Doc\n",
    "\n",
    "doc, tag, text = Doc().tagtext()\n",
    "\n",
    "with tag('ol'):\n",
    "    for i in range(1, 9):\n",
    "        with tag('li'):\n",
    "            text(f'Hello {i}')\n",
    "            \n",
    "display(doc.getvalue())"
   ]
  },
  {
   "cell_type": "code",
   "execution_count": 19,
   "metadata": {},
   "outputs": [
    {
     "data": {
      "text/html": [
       "<div style=\"font-size: 40px; line-height: 48px\"><span style=\"margin-right: 4px\">栧</span><span style=\"margin-right: 4px\">逊</span><span style=\"margin-right: 4px\">衃</span><span style=\"margin-right: 4px\">衁</span><span style=\"margin-right: 4px\">鴘</span><span style=\"margin-right: 4px\">蓪</span><span style=\"margin-right: 4px\">癭</span><span style=\"margin-right: 4px\">阚</span><span style=\"margin-right: 4px\">层</span><span style=\"margin-right: 4px\">捧</span><span style=\"margin-right: 4px\">唳</span><span style=\"margin-right: 4px\">閷</span><span style=\"margin-right: 4px\">宝</span><span style=\"margin-right: 4px\">灊</span><span style=\"margin-right: 4px\">鋅</span><span style=\"margin-right: 4px\">灰</span></div>"
      ],
      "text/plain": [
       "<IPython.core.display.HTML object>"
      ]
     },
     "metadata": {},
     "output_type": "display_data"
    }
   ],
   "source": [
    "doc, tag, text = Doc().tagtext()\n",
    "\n",
    "with tag('div', style='font-size: 40px; line-height: 48px'):\n",
    "    for _ in range(16):\n",
    "        with tag('span', style='margin-right: 4px'):\n",
    "            text(randomHanzi())\n",
    "\n",
    "display(doc.getvalue())"
   ]
  },
  {
   "cell_type": "code",
   "execution_count": 54,
   "metadata": {},
   "outputs": [
    {
     "data": {
      "text/html": [
       "<div style=\"font-size: 36px; line-height: 40px\"><span style=\"margin-right: 4px; text-shadow: 0 0 2px black; color: green\">虤</span><span style=\"margin-right: 4px; text-shadow: 0 0 2px black; color: yellow\">锡</span><span style=\"margin-right: 4px; text-shadow: 0 0 2px black; color: indigo\">妜</span><span style=\"margin-right: 4px; text-shadow: 0 0 2px black; color: violet\">礫</span><span style=\"margin-right: 4px; text-shadow: 0 0 2px black; color: indigo\">铔</span><span style=\"margin-right: 4px; text-shadow: 0 0 2px black; color: red\">眏</span><span style=\"margin-right: 4px; text-shadow: 0 0 2px black; color: indigo\">礥</span><span style=\"margin-right: 4px; text-shadow: 0 0 2px black; color: yellow\">踀</span><span style=\"margin-right: 4px; text-shadow: 0 0 2px black; color: red\">紊</span><span style=\"margin-right: 4px; text-shadow: 0 0 2px black; color: violet\">痁</span><span style=\"margin-right: 4px; text-shadow: 0 0 2px black; color: indigo\">滮</span><span style=\"margin-right: 4px; text-shadow: 0 0 2px black; color: indigo\">衈</span><span style=\"margin-right: 4px; text-shadow: 0 0 2px black; color: blue\">襾</span><span style=\"margin-right: 4px; text-shadow: 0 0 2px black; color: indigo\">夊</span><span style=\"margin-right: 4px; text-shadow: 0 0 2px black; color: yellow\">鳩</span><span style=\"margin-right: 4px; text-shadow: 0 0 2px black; color: red\">笭</span><span style=\"margin-right: 4px; text-shadow: 0 0 2px black; color: blue\">郧</span><span style=\"margin-right: 4px; text-shadow: 0 0 2px black; color: red\">癛</span><span style=\"margin-right: 4px; text-shadow: 0 0 2px black; color: orange\">褢</span><span style=\"margin-right: 4px; text-shadow: 0 0 2px black; color: orange\">黮</span><span style=\"margin-right: 4px; text-shadow: 0 0 2px black; color: yellow\">蟎</span><span style=\"margin-right: 4px; text-shadow: 0 0 2px black; color: green\">储</span><span style=\"margin-right: 4px; text-shadow: 0 0 2px black; color: blue\">绿</span><span style=\"margin-right: 4px; text-shadow: 0 0 2px black; color: green\">瑫</span><span style=\"margin-right: 4px; text-shadow: 0 0 2px black; color: green\">邖</span><span style=\"margin-right: 4px; text-shadow: 0 0 2px black; color: indigo\">藝</span><span style=\"margin-right: 4px; text-shadow: 0 0 2px black; color: orange\">諵</span><span style=\"margin-right: 4px; text-shadow: 0 0 2px black; color: yellow\">锅</span><span style=\"margin-right: 4px; text-shadow: 0 0 2px black; color: green\">趓</span><span style=\"margin-right: 4px; text-shadow: 0 0 2px black; color: yellow\">鏦</span><span style=\"margin-right: 4px; text-shadow: 0 0 2px black; color: red\">鶧</span><span style=\"margin-right: 4px; text-shadow: 0 0 2px black; color: violet\">觾</span></div>"
      ],
      "text/plain": [
       "<IPython.core.display.HTML object>"
      ]
     },
     "metadata": {},
     "output_type": "display_data"
    }
   ],
   "source": [
    "colors = ['red', 'orange', 'yellow', 'green', 'blue', 'indigo', 'violet']\n",
    "\n",
    "# Use random color for every hanzi\n",
    "doc, tag, text = Doc().tagtext()\n",
    "\n",
    "with tag('div', style='font-size: 36px; line-height: 40px'):\n",
    "    for _ in range(32):\n",
    "        color = random.choice(colors)\n",
    "        with tag('span', style=f'margin-right: 4px; text-shadow: 0 0 2px black; color: {color}'):\n",
    "            text(randomHanzi())\n",
    "\n",
    "display(doc.getvalue())"
   ]
  },
  {
   "cell_type": "code",
   "execution_count": 77,
   "metadata": {},
   "outputs": [
    {
     "data": {
      "text/html": [
       "<div style=\"font-size: 48px; line-height: 52px\"><span style=\"margin-right: 4px; text-shadow: 0 0 2px black; color: yellow\">餔</span><span style=\"margin-right: 4px; text-shadow: 0 0 2px black; color: violet\">鯡</span><span style=\"margin-right: 4px; text-shadow: 0 0 2px black; color: indigo\">黚</span><span style=\"margin-right: 4px; text-shadow: 0 0 2px black; color: green\">拁</span><span style=\"margin-right: 4px; text-shadow: 0 0 2px black; color: orange\">寘</span><span style=\"margin-right: 4px; text-shadow: 0 0 2px black; color: red\">铵</span><span style=\"margin-right: 4px; text-shadow: 0 0 2px black; color: blue\">镈</span><span style=\"margin-right: 4px; text-shadow: 0 0 2px black; color: yellow\">淲</span><span style=\"margin-right: 4px; text-shadow: 0 0 2px black; color: violet\">燌</span><span style=\"margin-right: 4px; text-shadow: 0 0 2px black; color: indigo\">氺</span><span style=\"margin-right: 4px; text-shadow: 0 0 2px black; color: green\">鋘</span><span style=\"margin-right: 4px; text-shadow: 0 0 2px black; color: orange\">竑</span><span style=\"margin-right: 4px; text-shadow: 0 0 2px black; color: red\">罚</span><span style=\"margin-right: 4px; text-shadow: 0 0 2px black; color: blue\">礟</span><span style=\"margin-right: 4px; text-shadow: 0 0 2px black; color: yellow\">萌</span><span style=\"margin-right: 4px; text-shadow: 0 0 2px black; color: violet\">郆</span></div>"
      ],
      "text/plain": [
       "<IPython.core.display.HTML object>"
      ]
     },
     "metadata": {},
     "output_type": "display_data"
    }
   ],
   "source": [
    "import itertools\n",
    "\n",
    "# Shuffle colors and then cycle through them\n",
    "shuffled_colors = colors |> l -> random.sample(l, k=len(l)) |> itertools.cycle\n",
    "\n",
    "doc, tag, text = Doc().tagtext()\n",
    "\n",
    "with tag('div', style='font-size: 48px; line-height: 52px'):\n",
    "    hanzi = [randomHanzi() for _ in range(16)]\n",
    "    for hanzi, color in zip(hanzi, shuffled_colors):\n",
    "        with tag('span', style=f'margin-right: 4px; text-shadow: 0 0 2px black; color: {color}'):\n",
    "            text(hanzi)\n",
    "\n",
    "display(doc.getvalue())"
   ]
  },
  {
   "cell_type": "code",
   "execution_count": 63,
   "metadata": {},
   "outputs": [
    {
     "data": {
      "text/plain": [
       "1"
      ]
     },
     "execution_count": 63,
     "metadata": {},
     "output_type": "execute_result"
    }
   ],
   "source": [
    "f = 4 |> (-)$\n",
    "f(3)"
   ]
  },
  {
   "cell_type": "code",
   "execution_count": 65,
   "metadata": {},
   "outputs": [
    {
     "data": {
      "text/plain": [
       "-1"
      ]
     },
     "execution_count": 65,
     "metadata": {},
     "output_type": "execute_result"
    }
   ],
   "source": [
    "4 |> -> 3 - _"
   ]
  }
 ],
 "metadata": {
  "kernelspec": {
   "display_name": "Coconut (Python 3)",
   "language": "coconut",
   "name": "coconut3"
  },
  "language_info": {
   "codemirror_mode": {
    "name": "python",
    "version": 3
   },
   "file_extension": ".coco",
   "mimetype": "text/x-python3",
   "name": "coconut",
   "pygments_lexer": "coconut",
   "version": "1.4.3"
  }
 },
 "nbformat": 4,
 "nbformat_minor": 4
}
