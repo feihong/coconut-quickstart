{
 "cells": [
  {
   "cell_type": "code",
   "execution_count": 1,
   "metadata": {},
   "outputs": [
    {
     "name": "stdout",
     "output_type": "stream",
     "text": [
      "你好世界 HELLO WORLD！！！\n"
     ]
    }
   ],
   "source": [
    "'你好世界 hello world' |> (s -> s.upper()) |> (-> _ + '！'*3) |> print"
   ]
  },
  {
   "cell_type": "code",
   "execution_count": 2,
   "metadata": {},
   "outputs": [],
   "source": [
    "import random\n",
    "\n",
    "def randomHanzi():\n",
    "    return random.randint(0x4e00, 0x9fff) |> chr"
   ]
  },
  {
   "cell_type": "code",
   "execution_count": 3,
   "metadata": {},
   "outputs": [
    {
     "name": "stdout",
     "output_type": "stream",
     "text": [
      "撎 折 馈 娶 貘 簘 莫 铇 祢 摰 蜤 廙 埚 届 錊 姍 醷 夞 簡 堃 语 爱 睐 冂 儥 诨 程 疰 镫 韯 鳞 柇 "
     ]
    }
   ],
   "source": [
    "for _ in range(32):\n",
    "    print(randomHanzi(), end=' ')"
   ]
  },
  {
   "cell_type": "code",
   "execution_count": 4,
   "metadata": {},
   "outputs": [
    {
     "data": {
      "text/html": [
       "<h1>你好世界！</h1>"
      ],
      "text/plain": [
       "<IPython.core.display.HTML object>"
      ]
     },
     "metadata": {},
     "output_type": "display_data"
    }
   ],
   "source": [
    "%%html\n",
    "<h1>你好世界！</h1>"
   ]
  },
  {
   "cell_type": "code",
   "execution_count": 13,
   "metadata": {},
   "outputs": [
    {
     "data": {
      "text/html": [
       "<h1>你好世界！</h1>"
      ],
      "text/plain": [
       "<IPython.core.display.HTML object>"
      ]
     },
     "metadata": {},
     "output_type": "display_data"
    }
   ],
   "source": [
    "def display(s): \n",
    "    import IPython.core.display as d\n",
    "    d.display(d.HTML(s))\n",
    "\n",
    "display('<h1>你好世界！</h1>')"
   ]
  },
  {
   "cell_type": "code",
   "execution_count": 15,
   "metadata": {},
   "outputs": [
    {
     "data": {
      "text/html": [
       "<ol><li>Hello 1</li><li>Hello 2</li><li>Hello 3</li><li>Hello 4</li><li>Hello 5</li><li>Hello 6</li><li>Hello 7</li><li>Hello 8</li><li>Hello 9</li><li>Hello 10</li></ol>"
      ],
      "text/plain": [
       "<IPython.core.display.HTML object>"
      ]
     },
     "metadata": {},
     "output_type": "display_data"
    }
   ],
   "source": [
    "from yattag import Doc\n",
    "\n",
    "doc, tag, text = Doc().tagtext()\n",
    "\n",
    "with tag('ol'):\n",
    "    for i in range(1, 11):\n",
    "        with tag('li'):\n",
    "            text(f'Hello {i}')\n",
    "            \n",
    "display(doc.getvalue())"
   ]
  },
  {
   "cell_type": "code",
   "execution_count": 19,
   "metadata": {},
   "outputs": [
    {
     "data": {
      "text/html": [
       "<div style=\"font-size: 40px\"><span>镸</span><span>槐</span><span>竚</span><span>襴</span><span>袢</span><span>鴉</span><span>蠔</span><span>酣</span><span>菰</span><span>蜚</span><span>盄</span><span>獙</span><span>驞</span><span>黎</span><span>闵</span><span>癢</span></div>"
      ],
      "text/plain": [
       "<IPython.core.display.HTML object>"
      ]
     },
     "metadata": {},
     "output_type": "display_data"
    }
   ],
   "source": [
    "doc, tag, text = Doc().tagtext()\n",
    "\n",
    "with tag('div', style='font-size: 40px'):\n",
    "    for _ in range(16):\n",
    "        with tag('span'):\n",
    "            text(randomHanzi())\n",
    "\n",
    "display(doc.getvalue())"
   ]
  },
  {
   "cell_type": "code",
   "execution_count": 12,
   "metadata": {},
   "outputs": [
    {
     "data": {
      "text/plain": [
       "str"
      ]
     },
     "execution_count": 12,
     "metadata": {},
     "output_type": "execute_result"
    }
   ],
   "source": [
    "type(chr(65))"
   ]
  }
 ],
 "metadata": {
  "kernelspec": {
   "display_name": "Coconut (Python 3)",
   "language": "coconut",
   "name": "coconut3"
  },
  "language_info": {
   "codemirror_mode": {
    "name": "python",
    "version": 3
   },
   "file_extension": ".coco",
   "mimetype": "text/x-python3",
   "name": "coconut",
   "pygments_lexer": "coconut",
   "version": "1.4.3"
  }
 },
 "nbformat": 4,
 "nbformat_minor": 4
}
