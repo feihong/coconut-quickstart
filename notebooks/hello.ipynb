{
 "cells": [
  {
   "cell_type": "code",
   "execution_count": 76,
   "metadata": {},
   "outputs": [
    {
     "name": "stdout",
     "output_type": "stream",
     "text": [
      "你好世界 HELLO WORLD！！！\n"
     ]
    }
   ],
   "source": [
    "'你好世界 hello world' |> (s -> s.upper()) |> (-> _ + '！'*3) |> print"
   ]
  },
  {
   "cell_type": "code",
   "execution_count": 3,
   "metadata": {},
   "outputs": [],
   "source": [
    "import random\n",
    "\n",
    "# Use = instead of : and you don't need to write `return`\n",
    "def randomHanzi() =\n",
    "    random.randint(0x4e00, 0x9fff) |> chr\n",
    "    \n",
    "def randomHanzis(n: Int) = \n",
    "    [randomHanzi() for _ in range(n)]"
   ]
  },
  {
   "cell_type": "code",
   "execution_count": 5,
   "metadata": {},
   "outputs": [
    {
     "name": "stdout",
     "output_type": "stream",
     "text": [
      "從 矇 魙 浱 綧 勊 櫢 瞶 瞯 婛 斈 鷗 鬠 殲 岃 姧 儷 苗 卉 皮 惑 嶭 瞎 樤 湏 嫞 幤 襍 牦 啠 嗊 廪 "
     ]
    }
   ],
   "source": [
    "for _ in randomHanzis(32):\n",
    "    print(randomHanzi(), end=' ')"
   ]
  },
  {
   "cell_type": "code",
   "execution_count": 11,
   "metadata": {},
   "outputs": [
    {
     "data": {
      "text/html": [
       "<h1>你好世界！</h1>"
      ],
      "text/plain": [
       "<IPython.core.display.HTML object>"
      ]
     },
     "metadata": {},
     "output_type": "display_data"
    }
   ],
   "source": [
    "%%html\n",
    "<h1>你好世界！</h1>"
   ]
  },
  {
   "cell_type": "code",
   "execution_count": 7,
   "metadata": {},
   "outputs": [
    {
     "data": {
      "text/html": [
       "<h1>你好世界！</h1>"
      ],
      "text/plain": [
       "<IPython.core.display.HTML object>"
      ]
     },
     "metadata": {},
     "output_type": "display_data"
    }
   ],
   "source": [
    "def display(s): \n",
    "    import IPython.core.display as d\n",
    "    d.display(d.HTML(s))\n",
    "\n",
    "display('<h1>你好世界！</h1>')"
   ]
  },
  {
   "cell_type": "code",
   "execution_count": 8,
   "metadata": {},
   "outputs": [
    {
     "data": {
      "text/html": [
       "<ol><li>Hello 1</li><li>Hello 2</li><li>Hello 3</li><li>Hello 4</li><li>Hello 5</li><li>Hello 6</li><li>Hello 7</li><li>Hello 8</li></ol>"
      ],
      "text/plain": [
       "<IPython.core.display.HTML object>"
      ]
     },
     "metadata": {},
     "output_type": "display_data"
    }
   ],
   "source": [
    "from yattag import Doc\n",
    "\n",
    "doc, tag, text = Doc().tagtext()\n",
    "\n",
    "with tag('ol'):\n",
    "    for i in range(1, 9):\n",
    "        with tag('li'):\n",
    "            text(f'Hello {i}')\n",
    "            \n",
    "display(doc.getvalue())"
   ]
  },
  {
   "cell_type": "code",
   "execution_count": 10,
   "metadata": {},
   "outputs": [
    {
     "data": {
      "text/html": [
       "<div style=\"font-size: 40px; line-height: 48px\"><span style=\"margin-right: 4px\">旴</span><span style=\"margin-right: 4px\">枓</span><span style=\"margin-right: 4px\">羒</span><span style=\"margin-right: 4px\">卋</span><span style=\"margin-right: 4px\">渦</span><span style=\"margin-right: 4px\">题</span><span style=\"margin-right: 4px\">鐺</span><span style=\"margin-right: 4px\">鑋</span><span style=\"margin-right: 4px\">單</span><span style=\"margin-right: 4px\">曑</span><span style=\"margin-right: 4px\">磃</span><span style=\"margin-right: 4px\">駡</span><span style=\"margin-right: 4px\">姒</span><span style=\"margin-right: 4px\">澞</span><span style=\"margin-right: 4px\">饅</span><span style=\"margin-right: 4px\">赜</span></div>"
      ],
      "text/plain": [
       "<IPython.core.display.HTML object>"
      ]
     },
     "metadata": {},
     "output_type": "display_data"
    }
   ],
   "source": [
    "doc, tag, text = Doc().tagtext()\n",
    "\n",
    "with tag('div', style='font-size: 40px; line-height: 48px'):\n",
    "    for h in randomHanzis(16):\n",
    "        with tag('span', style='margin-right: 4px'):\n",
    "            text(h)\n",
    "\n",
    "display(doc.getvalue())"
   ]
  },
  {
   "cell_type": "code",
   "execution_count": 11,
   "metadata": {},
   "outputs": [
    {
     "data": {
      "text/html": [
       "<div style=\"font-size: 36px; line-height: 40px\"><span style=\"margin-right: 4px; text-shadow: 0 0 2px black; color: blue\">墈</span><span style=\"margin-right: 4px; text-shadow: 0 0 2px black; color: blue\">庬</span><span style=\"margin-right: 4px; text-shadow: 0 0 2px black; color: red\">邃</span><span style=\"margin-right: 4px; text-shadow: 0 0 2px black; color: red\">鵮</span><span style=\"margin-right: 4px; text-shadow: 0 0 2px black; color: indigo\">镇</span><span style=\"margin-right: 4px; text-shadow: 0 0 2px black; color: yellow\">鐒</span><span style=\"margin-right: 4px; text-shadow: 0 0 2px black; color: violet\">絮</span><span style=\"margin-right: 4px; text-shadow: 0 0 2px black; color: violet\">刎</span><span style=\"margin-right: 4px; text-shadow: 0 0 2px black; color: green\">蝴</span><span style=\"margin-right: 4px; text-shadow: 0 0 2px black; color: yellow\">乧</span><span style=\"margin-right: 4px; text-shadow: 0 0 2px black; color: red\">薏</span><span style=\"margin-right: 4px; text-shadow: 0 0 2px black; color: orange\">肕</span><span style=\"margin-right: 4px; text-shadow: 0 0 2px black; color: indigo\">瘀</span><span style=\"margin-right: 4px; text-shadow: 0 0 2px black; color: indigo\">斴</span><span style=\"margin-right: 4px; text-shadow: 0 0 2px black; color: indigo\">紟</span><span style=\"margin-right: 4px; text-shadow: 0 0 2px black; color: red\">灥</span><span style=\"margin-right: 4px; text-shadow: 0 0 2px black; color: red\">繹</span><span style=\"margin-right: 4px; text-shadow: 0 0 2px black; color: violet\">姮</span><span style=\"margin-right: 4px; text-shadow: 0 0 2px black; color: violet\">垔</span><span style=\"margin-right: 4px; text-shadow: 0 0 2px black; color: blue\">菚</span><span style=\"margin-right: 4px; text-shadow: 0 0 2px black; color: blue\">旪</span><span style=\"margin-right: 4px; text-shadow: 0 0 2px black; color: violet\">鞻</span><span style=\"margin-right: 4px; text-shadow: 0 0 2px black; color: orange\">泀</span><span style=\"margin-right: 4px; text-shadow: 0 0 2px black; color: green\">笩</span><span style=\"margin-right: 4px; text-shadow: 0 0 2px black; color: orange\">龅</span><span style=\"margin-right: 4px; text-shadow: 0 0 2px black; color: orange\">佾</span><span style=\"margin-right: 4px; text-shadow: 0 0 2px black; color: green\">灥</span><span style=\"margin-right: 4px; text-shadow: 0 0 2px black; color: blue\">班</span><span style=\"margin-right: 4px; text-shadow: 0 0 2px black; color: blue\">菹</span><span style=\"margin-right: 4px; text-shadow: 0 0 2px black; color: orange\">埌</span><span style=\"margin-right: 4px; text-shadow: 0 0 2px black; color: green\">岟</span><span style=\"margin-right: 4px; text-shadow: 0 0 2px black; color: orange\">鳫</span></div>"
      ],
      "text/plain": [
       "<IPython.core.display.HTML object>"
      ]
     },
     "metadata": {},
     "output_type": "display_data"
    }
   ],
   "source": [
    "colors = ['red', 'orange', 'yellow', 'green', 'blue', 'indigo', 'violet']\n",
    "\n",
    "# Use random color for every hanzi\n",
    "doc, tag, text = Doc().tagtext()\n",
    "\n",
    "with tag('div', style='font-size: 36px; line-height: 40px'):\n",
    "    for h in randomHanzis(32):\n",
    "        color = random.choice(colors)\n",
    "        with tag('span', style=f'margin-right: 4px; text-shadow: 0 0 2px black; color: {color}'):\n",
    "            text(h)\n",
    "\n",
    "display(doc.getvalue())"
   ]
  },
  {
   "cell_type": "code",
   "execution_count": 12,
   "metadata": {},
   "outputs": [
    {
     "data": {
      "text/html": [
       "<div style=\"font-size: 48px; line-height: 52px\"><span style=\"margin-right: 4px; text-shadow: 0 0 2px black; color: red\">噾</span><span style=\"margin-right: 4px; text-shadow: 0 0 2px black; color: indigo\">侅</span><span style=\"margin-right: 4px; text-shadow: 0 0 2px black; color: violet\">衆</span><span style=\"margin-right: 4px; text-shadow: 0 0 2px black; color: blue\">缒</span><span style=\"margin-right: 4px; text-shadow: 0 0 2px black; color: yellow\">觤</span><span style=\"margin-right: 4px; text-shadow: 0 0 2px black; color: orange\">佭</span><span style=\"margin-right: 4px; text-shadow: 0 0 2px black; color: green\">飄</span><span style=\"margin-right: 4px; text-shadow: 0 0 2px black; color: red\">煁</span><span style=\"margin-right: 4px; text-shadow: 0 0 2px black; color: indigo\">恮</span><span style=\"margin-right: 4px; text-shadow: 0 0 2px black; color: violet\">躵</span><span style=\"margin-right: 4px; text-shadow: 0 0 2px black; color: blue\">顽</span><span style=\"margin-right: 4px; text-shadow: 0 0 2px black; color: yellow\">蓙</span><span style=\"margin-right: 4px; text-shadow: 0 0 2px black; color: orange\">董</span><span style=\"margin-right: 4px; text-shadow: 0 0 2px black; color: green\">卸</span><span style=\"margin-right: 4px; text-shadow: 0 0 2px black; color: red\">鏩</span><span style=\"margin-right: 4px; text-shadow: 0 0 2px black; color: indigo\">萔</span></div>"
      ],
      "text/plain": [
       "<IPython.core.display.HTML object>"
      ]
     },
     "metadata": {},
     "output_type": "display_data"
    }
   ],
   "source": [
    "import itertools\n",
    "\n",
    "# Shuffle colors and then cycle through them\n",
    "shuffled_colors = colors |> l -> random.sample(l, k=len(l)) |> itertools.cycle\n",
    "\n",
    "doc, tag, text = Doc().tagtext()\n",
    "\n",
    "with tag('div', style='font-size: 48px; line-height: 52px'):\n",
    "    for hanzi, color in zip(randomHanzis(16), shuffled_colors):\n",
    "        with tag('span', style=f'margin-right: 4px; text-shadow: 0 0 2px black; color: {color}'):\n",
    "            text(hanzi)\n",
    "\n",
    "display(doc.getvalue())"
   ]
  },
  {
   "cell_type": "code",
   "execution_count": 63,
   "metadata": {},
   "outputs": [
    {
     "data": {
      "text/plain": [
       "1"
      ]
     },
     "execution_count": 63,
     "metadata": {},
     "output_type": "execute_result"
    }
   ],
   "source": [
    "f = 4 |> (-)$\n",
    "f(3)"
   ]
  },
  {
   "cell_type": "code",
   "execution_count": 65,
   "metadata": {},
   "outputs": [
    {
     "data": {
      "text/plain": [
       "-1"
      ]
     },
     "execution_count": 65,
     "metadata": {},
     "output_type": "execute_result"
    }
   ],
   "source": [
    "4 |> -> 3 - _"
   ]
  }
 ],
 "metadata": {
  "kernelspec": {
   "display_name": "Coconut (Python 3)",
   "language": "coconut",
   "name": "coconut3"
  },
  "language_info": {
   "codemirror_mode": {
    "name": "python",
    "version": 3
   },
   "file_extension": ".coco",
   "mimetype": "text/x-python3",
   "name": "coconut",
   "pygments_lexer": "coconut",
   "version": "1.4.3"
  }
 },
 "nbformat": 4,
 "nbformat_minor": 4
}
